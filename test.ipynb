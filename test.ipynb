{
 "cells": [
  {
   "cell_type": "code",
   "execution_count": 244,
   "id": "986ce3ec",
   "metadata": {},
   "outputs": [],
   "source": [
    "import pandas as pd\n",
    "from sklearn.model_selection import train_test_split, GridSearchCV\n",
    "from sklearn.svm import SVC\n",
    "from sklearn.linear_model import LogisticRegression\n",
    "from sklearn.ensemble import RandomForestClassifier\n",
    "from sklearn.metrics import accuracy_score"
   ]
  },
  {
   "cell_type": "code",
   "execution_count": 245,
   "id": "7c1617c9",
   "metadata": {},
   "outputs": [],
   "source": [
    "data = pd.read_csv(\"dataset.csv\")"
   ]
  },
  {
   "cell_type": "code",
   "execution_count": 246,
   "id": "39169e2c",
   "metadata": {},
   "outputs": [
    {
     "data": {
      "text/html": [
       "<div>\n",
       "<style scoped>\n",
       "    .dataframe tbody tr th:only-of-type {\n",
       "        vertical-align: middle;\n",
       "    }\n",
       "\n",
       "    .dataframe tbody tr th {\n",
       "        vertical-align: top;\n",
       "    }\n",
       "\n",
       "    .dataframe thead th {\n",
       "        text-align: right;\n",
       "    }\n",
       "</style>\n",
       "<table border=\"1\" class=\"dataframe\">\n",
       "  <thead>\n",
       "    <tr style=\"text-align: right;\">\n",
       "      <th></th>\n",
       "      <th>SeniorCitizen</th>\n",
       "      <th>tenure</th>\n",
       "      <th>MonthlyCharges</th>\n",
       "    </tr>\n",
       "  </thead>\n",
       "  <tbody>\n",
       "    <tr>\n",
       "      <th>count</th>\n",
       "      <td>7043.000000</td>\n",
       "      <td>7043.000000</td>\n",
       "      <td>7043.000000</td>\n",
       "    </tr>\n",
       "    <tr>\n",
       "      <th>mean</th>\n",
       "      <td>0.162147</td>\n",
       "      <td>32.371149</td>\n",
       "      <td>64.761692</td>\n",
       "    </tr>\n",
       "    <tr>\n",
       "      <th>std</th>\n",
       "      <td>0.368612</td>\n",
       "      <td>24.559481</td>\n",
       "      <td>30.090047</td>\n",
       "    </tr>\n",
       "    <tr>\n",
       "      <th>min</th>\n",
       "      <td>0.000000</td>\n",
       "      <td>0.000000</td>\n",
       "      <td>18.250000</td>\n",
       "    </tr>\n",
       "    <tr>\n",
       "      <th>25%</th>\n",
       "      <td>0.000000</td>\n",
       "      <td>9.000000</td>\n",
       "      <td>35.500000</td>\n",
       "    </tr>\n",
       "    <tr>\n",
       "      <th>50%</th>\n",
       "      <td>0.000000</td>\n",
       "      <td>29.000000</td>\n",
       "      <td>70.350000</td>\n",
       "    </tr>\n",
       "    <tr>\n",
       "      <th>75%</th>\n",
       "      <td>0.000000</td>\n",
       "      <td>55.000000</td>\n",
       "      <td>89.850000</td>\n",
       "    </tr>\n",
       "    <tr>\n",
       "      <th>max</th>\n",
       "      <td>1.000000</td>\n",
       "      <td>72.000000</td>\n",
       "      <td>118.750000</td>\n",
       "    </tr>\n",
       "  </tbody>\n",
       "</table>\n",
       "</div>"
      ],
      "text/plain": [
       "       SeniorCitizen       tenure  MonthlyCharges\n",
       "count    7043.000000  7043.000000     7043.000000\n",
       "mean        0.162147    32.371149       64.761692\n",
       "std         0.368612    24.559481       30.090047\n",
       "min         0.000000     0.000000       18.250000\n",
       "25%         0.000000     9.000000       35.500000\n",
       "50%         0.000000    29.000000       70.350000\n",
       "75%         0.000000    55.000000       89.850000\n",
       "max         1.000000    72.000000      118.750000"
      ]
     },
     "execution_count": 246,
     "metadata": {},
     "output_type": "execute_result"
    }
   ],
   "source": [
    "data.describe()"
   ]
  },
  {
   "cell_type": "code",
   "execution_count": 247,
   "id": "fbe97eac",
   "metadata": {},
   "outputs": [
    {
     "name": "stdout",
     "output_type": "stream",
     "text": [
      "<class 'pandas.core.frame.DataFrame'>\n",
      "RangeIndex: 7043 entries, 0 to 7042\n",
      "Data columns (total 21 columns):\n",
      " #   Column            Non-Null Count  Dtype  \n",
      "---  ------            --------------  -----  \n",
      " 0   customerID        7043 non-null   object \n",
      " 1   gender            7043 non-null   object \n",
      " 2   SeniorCitizen     7043 non-null   int64  \n",
      " 3   Partner           7043 non-null   object \n",
      " 4   Dependents        7043 non-null   object \n",
      " 5   tenure            7043 non-null   int64  \n",
      " 6   PhoneService      7043 non-null   object \n",
      " 7   MultipleLines     7043 non-null   object \n",
      " 8   InternetService   7043 non-null   object \n",
      " 9   OnlineSecurity    7043 non-null   object \n",
      " 10  OnlineBackup      7043 non-null   object \n",
      " 11  DeviceProtection  7043 non-null   object \n",
      " 12  TechSupport       7043 non-null   object \n",
      " 13  StreamingTV       7043 non-null   object \n",
      " 14  StreamingMovies   7043 non-null   object \n",
      " 15  Contract          7043 non-null   object \n",
      " 16  PaperlessBilling  7043 non-null   object \n",
      " 17  PaymentMethod     7043 non-null   object \n",
      " 18  MonthlyCharges    7043 non-null   float64\n",
      " 19  TotalCharges      7043 non-null   object \n",
      " 20  Churn             7043 non-null   object \n",
      "dtypes: float64(1), int64(2), object(18)\n",
      "memory usage: 1.1+ MB\n"
     ]
    }
   ],
   "source": [
    "data.info()"
   ]
  },
  {
   "cell_type": "code",
   "execution_count": 248,
   "id": "33ea0205",
   "metadata": {},
   "outputs": [],
   "source": [
    "# Clean TotalCharges where empty value\n",
    "\n",
    "data.loc[data[\"tenure\"] == 0, \"TotalCharges\"] = data.loc[data[\"tenure\"] == 0, \"tenure\"] * data.loc[data[\"tenure\"] == 0, \"MonthlyCharges\"]\n",
    "data[\"TotalCharges\"] = pd.to_numeric(data[\"TotalCharges\"])"
   ]
  },
  {
   "cell_type": "code",
   "execution_count": 250,
   "id": "9438cd80",
   "metadata": {},
   "outputs": [
    {
     "name": "stdout",
     "output_type": "stream",
     "text": [
      "customerID: ['7590-VHVEG' '5575-GNVDE' '3668-QPYBK' ... '4801-JZAZL' '8361-LTMKD'\n",
      " '3186-AJIEK']\n",
      "gender: ['Female' 'Male']\n",
      "Partner: ['Yes' 'No']\n",
      "Dependents: ['No' 'Yes']\n",
      "PhoneService: ['No' 'Yes']\n",
      "MultipleLines: ['No phone service' 'No' 'Yes']\n",
      "InternetService: ['DSL' 'Fiber optic' 'No']\n",
      "OnlineSecurity: ['No' 'Yes' 'No internet service']\n",
      "OnlineBackup: ['Yes' 'No' 'No internet service']\n",
      "DeviceProtection: ['No' 'Yes' 'No internet service']\n",
      "TechSupport: ['No' 'Yes' 'No internet service']\n",
      "StreamingTV: ['No' 'Yes' 'No internet service']\n",
      "StreamingMovies: ['No' 'Yes' 'No internet service']\n",
      "Contract: ['Month-to-month' 'One year' 'Two year']\n",
      "PaperlessBilling: ['Yes' 'No']\n",
      "PaymentMethod: ['Electronic check' 'Mailed check' 'Bank transfer (automatic)'\n",
      " 'Credit card (automatic)']\n",
      "Churn: ['No' 'Yes']\n"
     ]
    }
   ],
   "source": [
    "for i in data.columns:\n",
    "    if data[i].dtype == \"object\":\n",
    "        print(f\"{i}: {data[i].unique()}\")"
   ]
  },
  {
   "cell_type": "code",
   "execution_count": 251,
   "id": "d4489a46",
   "metadata": {},
   "outputs": [],
   "source": [
    "# Make all categorical data numerical\n",
    "\n",
    "data[\"gender\"] = (data[\"gender\"].str.lower() == \"male\").astype(int)\n",
    "data[\"Partner\"] = (data[\"Partner\"].str.lower() == \"yes\").astype(int)\n",
    "data[\"Dependents\"] = (data[\"Dependents\"].str.lower() == \"yes\").astype(int)\n",
    "data[\"PhoneService\"] = (data[\"PhoneService\"].str.lower() == \"yes\").astype(int)\n",
    "data[\"MultipleLines\"]  = data[\"MultipleLines\"].str.lower().map({\"no phone service\": 0, \"yes\": 1, \"no\": 2})\n",
    "data[\"InternetService\"]  = data[\"InternetService\"].str.lower().map({\"dsl\": 0, \"fiber optic\": 1, \"no\": 2})\n",
    "data[\"OnlineSecurity\"]  = data[\"OnlineSecurity\"].str.lower().map({\"no internet service\": 0, \"yes\": 1, \"no\": 2})\n",
    "data[\"OnlineBackup\"]  = data[\"OnlineBackup\"].str.lower().map({\"no internet service\": 0, \"yes\": 1, \"no\": 2})\n",
    "data[\"DeviceProtection\"]  = data[\"DeviceProtection\"].str.lower().map({\"no internet service\": 0, \"yes\": 1, \"no\": 2})\n",
    "data[\"TechSupport\"]  = data[\"TechSupport\"].str.lower().map({\"no internet service\": 0, \"yes\": 1, \"no\": 2})\n",
    "data[\"StreamingTV\"]  = data[\"StreamingTV\"].str.lower().map({\"no internet service\": 0, \"yes\": 1, \"no\": 2})\n",
    "data[\"StreamingMovies\"]  = data[\"StreamingMovies\"].str.lower().map({\"no internet service\": 0, \"yes\": 1, \"no\": 2})\n",
    "data[\"Contract\"] = data[\"Contract\"].str.lower().map({\"month-to-month\": 0, \"one year\": 1, \"two year\": 2})\n",
    "data[\"PaperlessBilling\"] = (data[\"PaperlessBilling\"].str.lower() == \"yes\").astype(int)\n",
    "data[\"PaymentMethod\"] = data[\"PaymentMethod\"].str.lower().map({\"electronic check\": 0, \"mailed check\": 1, \"bank transfer (automatic)\": 2, \"credit card (automatic)\": 3})\n",
    "\n",
    "data[\"Churn\"] = (data[\"Churn\"].str.lower() == \"yes\").astype(int)"
   ]
  },
  {
   "cell_type": "code",
   "execution_count": 252,
   "id": "566d66ef",
   "metadata": {},
   "outputs": [],
   "source": [
    "# drop customerID as it doesn't influence churn\n",
    "data.drop(columns=[\"customerID\"], inplace=True)"
   ]
  },
  {
   "cell_type": "code",
   "execution_count": 253,
   "id": "74f479a2",
   "metadata": {},
   "outputs": [],
   "source": [
    "data[\"tenure\"] = (data[\"tenure\"] - data[\"tenure\"].mean()) / data[\"tenure\"].std()\n",
    "data[\"MonthlyCharges\"] = (data[\"MonthlyCharges\"] - data[\"MonthlyCharges\"].mean()) / data[\"MonthlyCharges\"].std()\n",
    "data[\"TotalCharges\"] = (data[\"TotalCharges\"] - data[\"TotalCharges\"].mean()) / data[\"TotalCharges\"].std()"
   ]
  },
  {
   "cell_type": "code",
   "execution_count": 254,
   "id": "2f58352a",
   "metadata": {},
   "outputs": [],
   "source": [
    "y = data[\"Churn\"]\n",
    "X = data.drop(columns=[\"Churn\"], inplace=False)"
   ]
  },
  {
   "cell_type": "code",
   "execution_count": 255,
   "id": "1f7070c4",
   "metadata": {},
   "outputs": [],
   "source": [
    "X_train, X_test, y_train, y_test = train_test_split(X, y, test_size=0.2, random_state=42)"
   ]
  },
  {
   "cell_type": "code",
   "execution_count": 257,
   "id": "a741f693",
   "metadata": {},
   "outputs": [
    {
     "name": "stdout",
     "output_type": "stream",
     "text": [
      "Logistic Regression | Best Params: {'C': 0.1, 'max_iter': 10000, 'penalty': 'l2', 'solver': 'lbfgs'} | Best Score: 0.7998\n",
      "Random Forest | Best Params: {'max_depth': 5, 'n_estimators': 200} | Best Score: 0.7962\n",
      "SVC | Best Params: {'C': 1, 'gamma': 'scale', 'kernel': 'rbf'} | Best Score: 0.7989\n"
     ]
    }
   ],
   "source": [
    "model_params = [\n",
    "    (\"Logistic Regression\", LogisticRegression(), {\n",
    "        \"C\": [0.01, 0.1,1, 10],\n",
    "        \"penalty\": [\"l2\"],\n",
    "        \"solver\": [\"lbfgs\"],\n",
    "        \"max_iter\": [10000]\n",
    "    }),\n",
    "    (\"Random Forest\", RandomForestClassifier(), {\n",
    "        \"n_estimators\": [100, 200],\n",
    "        \"max_depth\": [3, 4, 5, None]\n",
    "    }),\n",
    "    (\"SVC\", SVC(), {\n",
    "        \"C\": [0.1, 1, 10],\n",
    "        \"kernel\": [\"linear\", \"rbf\"],\n",
    "        \"gamma\": [\"scale\", \"auto\"]\n",
    "    }),\n",
    "]\n",
    "\n",
    "best_models = {}\n",
    "\n",
    "for name, model, params in model_params:\n",
    "    grid = GridSearchCV(model, param_grid=params, cv=5, scoring=\"accuracy\")\n",
    "    grid.fit(X_train, y_train)\n",
    "    print(f\"{name} | Best Params: {grid.best_params_} | Best Score: {grid.best_score_:.4f}\")\n",
    "    best_models[name] = grid.best_estimator_"
   ]
  },
  {
   "cell_type": "code",
   "execution_count": 260,
   "id": "fde78621",
   "metadata": {},
   "outputs": [
    {
     "name": "stdout",
     "output_type": "stream",
     "text": [
      "Logistic Regression | Test Accuracy: 0.8204\n",
      "Random Forest | Test Accuracy: 0.8006\n",
      "SVC | Test Accuracy: 0.8162\n"
     ]
    }
   ],
   "source": [
    "for name, model in best_models.items():\n",
    "    y_pred = model.predict(X_test)\n",
    "    print(f\"{name} | Test Accuracy: {accuracy_score(y_test, y_pred):.4f}\")"
   ]
  }
 ],
 "metadata": {
  "kernelspec": {
   "display_name": "Python 3",
   "language": "python",
   "name": "python3"
  },
  "language_info": {
   "codemirror_mode": {
    "name": "ipython",
    "version": 3
   },
   "file_extension": ".py",
   "mimetype": "text/x-python",
   "name": "python",
   "nbconvert_exporter": "python",
   "pygments_lexer": "ipython3",
   "version": "3.12.10"
  }
 },
 "nbformat": 4,
 "nbformat_minor": 5
}
